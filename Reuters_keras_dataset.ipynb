{
 "cells": [
  {
   "cell_type": "markdown",
   "id": "94fdaa6c",
   "metadata": {},
   "source": [
    "# Reuters Dataset:\n"
   ]
  },
  {
   "cell_type": "code",
   "execution_count": 1,
   "id": "5d3d25c6",
   "metadata": {},
   "outputs": [],
   "source": [
    "from keras.datasets import reuters\n",
    "\n",
    "#Load the reuters dataset\n",
    "(train_data, train_labels), (test_data, test_labels) = reuters.load_data(num_words=10000)\n"
   ]
  },
  {
   "cell_type": "code",
   "execution_count": 13,
   "id": "fbbc0562",
   "metadata": {},
   "outputs": [
    {
     "name": "stdout",
     "output_type": "stream",
     "text": [
      "\n",
      "(8982,)\n",
      "(8982,)\n",
      "\n",
      "(2246,)\n",
      "(2246,)\n"
     ]
    }
   ],
   "source": [
    "#print(train_data[10])\n",
    "print()\n",
    "print(train_data.shape)\n",
    "print(train_labels.shape)\n",
    "print()\n",
    "print(test_data.shape)\n",
    "print(test_labels.shape)\n",
    "\n"
   ]
  },
  {
   "cell_type": "markdown",
   "id": "15e33970",
   "metadata": {},
   "source": [
    "Note: Each example is a list of integers (word indices)\n",
    "\n",
    "Here’s how you can decode it back to words, in case you are curious:\n"
   ]
  },
  {
   "cell_type": "code",
   "execution_count": 14,
   "id": "068f6721",
   "metadata": {},
   "outputs": [],
   "source": [
    "word_index = reuters.get_word_index()\n",
    "reverse_word_index = dict([(value, key) for (key, value) in word_index.items()])\n",
    "# Note that our indices were offset by 3\n",
    "# because 0, 1 and 2 are reserved indices for \"padding\", \"start of sequence\", and \"unknown\".\n",
    "decoded_newswire = ' '.join([reverse_word_index.get(i - 3, '?') for i in train_data[0]])"
   ]
  },
  {
   "cell_type": "code",
   "execution_count": 16,
   "id": "2c791321",
   "metadata": {},
   "outputs": [],
   "source": [
    "#decoded_newswire"
   ]
  },
  {
   "cell_type": "markdown",
   "id": "8b7df64c",
   "metadata": {},
   "source": [
    "##### Preparing the data - vectorize the data"
   ]
  },
  {
   "cell_type": "code",
   "execution_count": 17,
   "id": "f36e8987",
   "metadata": {},
   "outputs": [],
   "source": [
    "import numpy as np \n",
    "\n",
    "def vectorize_sequences(sequences, dimension=10000):\n",
    "    results = np.zeros((len(sequences), dimension))\n",
    "    for i, sequence in enumerate(sequences):\n",
    "        results[i, sequence] = 1.\n",
    "    return results\n",
    "\n",
    "\n",
    "# Our vectorized training data\n",
    "x_train = vectorize_sequences(train_data)\n",
    "# Our vectorized test data\n",
    "x_test = vectorize_sequences(test_data)"
   ]
  },
  {
   "cell_type": "markdown",
   "id": "187ab602",
   "metadata": {},
   "source": [
    "**Note**: To vectorize the labels, there are two possibilities: we could just cast the label list as\n",
    "an integer tensor, or we could use a \"one-hot\" encoding. One-hot encoding is a widely\n",
    "used format for categorical data, also called \"categorical encoding\".\n",
    "\n",
    "In our case,\n",
    "one-hot encoding of our labels consists in embedding each label as an all-zero vector\n",
    "with a 1 in the place of the label index, e.g.:"
   ]
  },
  {
   "cell_type": "markdown",
   "id": "1ba43373",
   "metadata": {},
   "source": [
    "`def to_one_hot(labels, dimension=46):\n",
    "    results = np.zeros((len(labels), dimension))\n",
    "    for i, label in enumerate(labels):\n",
    "        results[i, label] = 1.\n",
    "    return results\n",
    "#Our vectorized training labels\n",
    "one_hot_train_labels = to_one_hot(train_labels)\n",
    "#Our vectorized test labels\n",
    "one_hot_test_labels = to_one_hot(test_labels)`"
   ]
  },
  {
   "cell_type": "markdown",
   "id": "5588d900",
   "metadata": {},
   "source": [
    "##### One-hot encoding the labels, the Keras way"
   ]
  },
  {
   "cell_type": "code",
   "execution_count": 27,
   "id": "e8046807",
   "metadata": {},
   "outputs": [
    {
     "name": "stdout",
     "output_type": "stream",
     "text": [
      "(8982, 46)\n",
      "(2246, 46)\n"
     ]
    }
   ],
   "source": [
    "from keras.utils.np_utils import to_categorical\n",
    "one_hot_train_labels = to_categorical(train_labels)\n",
    "one_hot_test_labels = to_categorical(test_labels)\n",
    "\n",
    "print(one_hot_train_labels.shape)\n",
    "print(one_hot_test_labels.shape)"
   ]
  },
  {
   "cell_type": "markdown",
   "id": "fb783f48",
   "metadata": {},
   "source": [
    "##### Model definition\n"
   ]
  },
  {
   "cell_type": "code",
   "execution_count": 29,
   "id": "3b06cfa5",
   "metadata": {},
   "outputs": [],
   "source": [
    "from keras import models\n",
    "from keras import layers\n",
    "\n",
    "model = models.Sequential()\n",
    "model.add(layers.Dense(64, activation='relu', input_shape=(10000,)))\n",
    "model.add(layers.Dense(64, activation='relu'))\n",
    "model.add(layers.Dense(46, activation='softmax'))"
   ]
  },
  {
   "cell_type": "markdown",
   "id": "acf990c4",
   "metadata": {},
   "source": [
    "**Note:** The `softmax` activation will output a probability distribution over the 46 different output classes. The 46 scores will sum to 1.\n",
    "\n",
    "##### Compiling Model"
   ]
  },
  {
   "cell_type": "code",
   "execution_count": 30,
   "id": "0776be5c",
   "metadata": {},
   "outputs": [],
   "source": [
    "model.compile(optimizer='rmsprop',\n",
    "    loss='categorical_crossentropy',\n",
    "    metrics=['accuracy'])"
   ]
  },
  {
   "cell_type": "markdown",
   "id": "eaff4839",
   "metadata": {},
   "source": [
    "##### Setting aside a validation set"
   ]
  },
  {
   "cell_type": "code",
   "execution_count": 31,
   "id": "58b18e1f",
   "metadata": {},
   "outputs": [],
   "source": [
    "x_val = x_train[:1000]\n",
    "partial_x_train = x_train[1000:]\n",
    "\n",
    "y_val = one_hot_train_labels[:1000]\n",
    "partial_y_train = one_hot_train_labels[1000:]"
   ]
  },
  {
   "cell_type": "markdown",
   "id": "e943322f",
   "metadata": {},
   "source": [
    "##### Training Model"
   ]
  },
  {
   "cell_type": "code",
   "execution_count": 32,
   "id": "3a0df767",
   "metadata": {},
   "outputs": [
    {
     "name": "stdout",
     "output_type": "stream",
     "text": [
      "Epoch 1/20\n",
      "16/16 [==============================] - 2s 66ms/step - loss: 2.9797 - accuracy: 0.4489 - val_loss: 1.9703 - val_accuracy: 0.6380\n",
      "Epoch 2/20\n",
      "16/16 [==============================] - 1s 42ms/step - loss: 1.6128 - accuracy: 0.6829 - val_loss: 1.4127 - val_accuracy: 0.7010\n",
      "Epoch 3/20\n",
      "16/16 [==============================] - 1s 35ms/step - loss: 1.2148 - accuracy: 0.7440 - val_loss: 1.2111 - val_accuracy: 0.7390\n",
      "Epoch 4/20\n",
      "16/16 [==============================] - 1s 33ms/step - loss: 0.9877 - accuracy: 0.7925 - val_loss: 1.0884 - val_accuracy: 0.7600\n",
      "Epoch 5/20\n",
      "16/16 [==============================] - 1s 36ms/step - loss: 0.8222 - accuracy: 0.8222 - val_loss: 1.0075 - val_accuracy: 0.7830\n",
      "Epoch 6/20\n",
      "16/16 [==============================] - 1s 32ms/step - loss: 0.6851 - accuracy: 0.8489 - val_loss: 0.9570 - val_accuracy: 0.7910\n",
      "Epoch 7/20\n",
      "16/16 [==============================] - 1s 32ms/step - loss: 0.5708 - accuracy: 0.8752 - val_loss: 0.9312 - val_accuracy: 0.7920\n",
      "Epoch 8/20\n",
      "16/16 [==============================] - 1s 32ms/step - loss: 0.4837 - accuracy: 0.8959 - val_loss: 0.8711 - val_accuracy: 0.8180\n",
      "Epoch 9/20\n",
      "16/16 [==============================] - 1s 33ms/step - loss: 0.4107 - accuracy: 0.9123 - val_loss: 0.8708 - val_accuracy: 0.8090\n",
      "Epoch 10/20\n",
      "16/16 [==============================] - 1s 31ms/step - loss: 0.3488 - accuracy: 0.9241 - val_loss: 0.8532 - val_accuracy: 0.8240\n",
      "Epoch 11/20\n",
      "16/16 [==============================] - 1s 35ms/step - loss: 0.3016 - accuracy: 0.9336 - val_loss: 0.8530 - val_accuracy: 0.8190\n",
      "Epoch 12/20\n",
      "16/16 [==============================] - 1s 37ms/step - loss: 0.2661 - accuracy: 0.9410 - val_loss: 0.8636 - val_accuracy: 0.8210\n",
      "Epoch 13/20\n",
      "16/16 [==============================] - 1s 33ms/step - loss: 0.2316 - accuracy: 0.9456 - val_loss: 0.8778 - val_accuracy: 0.8250\n",
      "Epoch 14/20\n",
      "16/16 [==============================] - 1s 40ms/step - loss: 0.2155 - accuracy: 0.9466 - val_loss: 0.9004 - val_accuracy: 0.8210\n",
      "Epoch 15/20\n",
      "16/16 [==============================] - 1s 36ms/step - loss: 0.1917 - accuracy: 0.9489 - val_loss: 0.9013 - val_accuracy: 0.8170\n",
      "Epoch 16/20\n",
      "16/16 [==============================] - 1s 37ms/step - loss: 0.1776 - accuracy: 0.9530 - val_loss: 0.9104 - val_accuracy: 0.8220\n",
      "Epoch 17/20\n",
      "16/16 [==============================] - 1s 37ms/step - loss: 0.1638 - accuracy: 0.9533 - val_loss: 0.9180 - val_accuracy: 0.8140\n",
      "Epoch 18/20\n",
      "16/16 [==============================] - 1s 35ms/step - loss: 0.1500 - accuracy: 0.9540 - val_loss: 0.9834 - val_accuracy: 0.8010\n",
      "Epoch 19/20\n",
      "16/16 [==============================] - 1s 37ms/step - loss: 0.1456 - accuracy: 0.9562 - val_loss: 0.9667 - val_accuracy: 0.8090\n",
      "Epoch 20/20\n",
      "16/16 [==============================] - 1s 32ms/step - loss: 0.1371 - accuracy: 0.9554 - val_loss: 0.9640 - val_accuracy: 0.8140\n"
     ]
    }
   ],
   "source": [
    "history = model.fit(partial_x_train,\n",
    "    partial_y_train,\n",
    "    epochs=20,\n",
    "    batch_size=512,\n",
    "    validation_data=(x_val, y_val))"
   ]
  },
  {
   "cell_type": "markdown",
   "id": "84443e13",
   "metadata": {},
   "source": [
    "##### Plotting the training and validation loss"
   ]
  },
  {
   "cell_type": "code",
   "execution_count": 33,
   "id": "22882beb",
   "metadata": {},
   "outputs": [
    {
     "data": {
      "image/png": "[encoded data removed]",
      "text/plain": [
       "<Figure size 640x480 with 1 Axes>"
      ]
     },
     "metadata": {},
     "output_type": "display_data"
    }
   ],
   "source": [
    "import matplotlib.pyplot as plt\n",
    "loss = history.history['loss']\n",
    "val_loss = history.history['val_loss']\n",
    "epochs = range(1, len(loss) + 1)\n",
    "plt.plot(epochs, loss, 'bo', label='Training loss')\n",
    "plt.plot(epochs, val_loss, 'b', label='Validation loss')\n",
    "plt.title('Training and validation loss')\n",
    "plt.xlabel('Epochs')\n",
    "plt.ylabel('Loss')\n",
    "plt.legend()\n",
    "plt.show()"
   ]
  },
  {
   "cell_type": "markdown",
   "id": "88bda397",
   "metadata": {},
   "source": [
    "##### Re-training a model from scratch"
   ]
  },
  {
   "cell_type": "code",
   "execution_count": 38,
   "id": "ddd001da",
   "metadata": {},
   "outputs": [
    {
     "name": "stdout",
     "output_type": "stream",
     "text": [
      "Epoch 1/9\n",
      "16/16 [==============================] - 1s 44ms/step - loss: 2.8051 - accuracy: 0.4934 - val_loss: 1.8231 - val_accuracy: 0.6450\n",
      "Epoch 2/9\n",
      "16/16 [==============================] - 1s 32ms/step - loss: 1.5360 - accuracy: 0.6912 - val_loss: 1.3598 - val_accuracy: 0.7150\n",
      "Epoch 3/9\n",
      "16/16 [==============================] - 1s 33ms/step - loss: 1.1596 - accuracy: 0.7590 - val_loss: 1.1888 - val_accuracy: 0.7410\n",
      "Epoch 4/9\n",
      "16/16 [==============================] - 1s 40ms/step - loss: 0.9461 - accuracy: 0.7980 - val_loss: 1.0775 - val_accuracy: 0.7650\n",
      "Epoch 5/9\n",
      "16/16 [==============================] - 1s 37ms/step - loss: 0.7853 - accuracy: 0.8353 - val_loss: 1.0069 - val_accuracy: 0.7830\n",
      "Epoch 6/9\n",
      "16/16 [==============================] - 1s 36ms/step - loss: 0.6576 - accuracy: 0.8628 - val_loss: 0.9705 - val_accuracy: 0.7960\n",
      "Epoch 7/9\n",
      "16/16 [==============================] - 1s 38ms/step - loss: 0.5476 - accuracy: 0.8885 - val_loss: 0.9144 - val_accuracy: 0.8050\n",
      "Epoch 8/9\n",
      "16/16 [==============================] - 1s 37ms/step - loss: 0.4631 - accuracy: 0.9063 - val_loss: 0.9164 - val_accuracy: 0.8120\n",
      "Epoch 9/9\n",
      "16/16 [==============================] - 1s 33ms/step - loss: 0.3942 - accuracy: 0.9158 - val_loss: 0.8974 - val_accuracy: 0.8060\n",
      "71/71 [==============================] - 0s 4ms/step - loss: 0.9565 - accuracy: 0.7818\n"
     ]
    }
   ],
   "source": [
    "model = models.Sequential()\n",
    "\n",
    "model.add(layers.Dense(64, activation='relu', input_shape=(10000,)))\n",
    "model.add(layers.Dense(64, activation='relu'))\n",
    "model.add(layers.Dense(46, activation='softmax'))\n",
    "\n",
    "model.compile(optimizer='rmsprop',\n",
    "    loss='categorical_crossentropy',\n",
    "    metrics=['accuracy'])\n",
    "\n",
    "model.fit(partial_x_train,\n",
    "    partial_y_train,\n",
    "    epochs=9,\n",
    "    batch_size=512,\n",
    "    validation_data=(x_val, y_val))\n",
    "\n",
    "results = model.evaluate(x_test, one_hot_test_labels)"
   ]
  },
  {
   "cell_type": "code",
   "execution_count": 39,
   "id": "08e36ae6",
   "metadata": {},
   "outputs": [
    {
     "data": {
      "text/plain": [
       "[0.9564700126647949, 0.7818343639373779]"
      ]
     },
     "execution_count": 39,
     "metadata": {},
     "output_type": "execute_result"
    }
   ],
   "source": [
    "results"
   ]
  },
  {
   "cell_type": "code",
   "execution_count": null,
   "id": "88fe2fb0",
   "metadata": {},
   "outputs": [],
   "source": []
  },
  {
   "cell_type": "code",
   "execution_count": null,
   "id": "bce40ef1",
   "metadata": {},
   "outputs": [],
   "source": []
  },
  {
   "cell_type": "code",
   "execution_count": null,
   "id": "ad6a5dfd",
   "metadata": {},
   "outputs": [],
   "source": []
  },
  {
   "cell_type": "code",
   "execution_count": null,
   "id": "df540025",
   "metadata": {},
   "outputs": [],
   "source": []
  }
 ],
 "metadata": {
  "kernelspec": {
   "display_name": "Python 3",
   "language": "python",
   "name": "python3"
  },
  "language_info": {
   "codemirror_mode": {
    "name": "ipython",
    "version": 3
   },
   "file_extension": ".py",
   "mimetype": "text/x-python",
   "name": "python",
   "nbconvert_exporter": "python",
   "pygments_lexer": "ipython3",
   "version": "3.9.13"
  }
 },
 "nbformat": 4,
 "nbformat_minor": 5
}
